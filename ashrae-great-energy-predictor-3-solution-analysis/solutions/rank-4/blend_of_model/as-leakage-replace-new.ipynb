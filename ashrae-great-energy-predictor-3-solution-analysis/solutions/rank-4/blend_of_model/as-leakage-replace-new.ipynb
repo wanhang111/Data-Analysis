{
  "cells": [
    {
      "cell_type": "markdown",
      "metadata": {
        "id": "view-in-github",
        "colab_type": "text"
      },
      "source": [
        "<a href=\"https://colab.research.google.com/github/wanhang111/Data-Analysis/blob/master/ashrae-great-energy-predictor-3-solution-analysis/solutions/rank-4/blend_of_model/as-leakage-replace-new.ipynb\" target=\"_parent\"><img src=\"https://colab.research.google.com/assets/colab-badge.svg\" alt=\"Open In Colab\"/></a>"
      ]
    },
    {
      "cell_type": "markdown",
      "metadata": {
        "id": "QiEu9Fww5gOq"
      },
      "source": [
        "# All we need is Leak Validation(LV) ?\n",
        "\n",
        "* **if you like this kernel, please upvote original kernels.**\n",
        "* update site-4 and site-15"
      ]
    },
    {
      "cell_type": "markdown",
      "metadata": {
        "id": "eCUiE6nW5gOs"
      },
      "source": [
        "this kernel is still work in progress, but i hope you can find something usefull from this."
      ]
    },
    {
      "cell_type": "code",
      "execution_count": null,
      "metadata": {
        "ExecuteTime": {
          "end_time": "2020-05-20T13:10:49.425261Z",
          "start_time": "2020-05-20T13:10:49.419319Z"
        },
        "_cell_guid": "79c7e3d0-c299-4dcb-8224-4455121ee9b0",
        "_uuid": "d629ff2d2480ee46fbb7e2d37f6b5fab8052498a",
        "id": "Bqf0-NZN5gOs",
        "outputId": "0a7b6933-7f1b-4b7c-e0eb-da65be04e0b7"
      },
      "outputs": [
        {
          "data": {
            "text/html": [
              "        <script type=\"text/javascript\">\n",
              "        window.PlotlyConfig = {MathJaxConfig: 'local'};\n",
              "        if (window.MathJax) {MathJax.Hub.Config({SVG: {font: \"STIX-Web\"}});}\n",
              "        if (typeof require !== 'undefined') {\n",
              "        require.undef(\"plotly\");\n",
              "        requirejs.config({\n",
              "            paths: {\n",
              "                'plotly': ['https://cdn.plot.ly/plotly-latest.min']\n",
              "            }\n",
              "        });\n",
              "        require(['plotly'], function(Plotly) {\n",
              "            window._Plotly = Plotly;\n",
              "        });\n",
              "        }\n",
              "        </script>\n",
              "        "
            ]
          },
          "metadata": {},
          "output_type": "display_data"
        }
      ],
      "source": [
        "import gc\n",
        "import os\n",
        "from pathlib import Path\n",
        "import random\n",
        "import sys\n",
        "\n",
        "from tqdm import tqdm_notebook as tqdm\n",
        "import numpy as np # linear algebra\n",
        "import pandas as pd # data processing, CSV file I/O (e.g. pd.read_csv)\n",
        "\n",
        "import matplotlib.pyplot as plt\n",
        "import seaborn as sns\n",
        "\n",
        "from IPython.core.display import display, HTML\n",
        "\n",
        "# --- plotly ---\n",
        "from plotly import tools, subplots\n",
        "import plotly.offline as py\n",
        "py.init_notebook_mode(connected=True)\n",
        "import plotly.graph_objs as go\n",
        "import plotly.express as px\n",
        "import plotly.figure_factory as ff\n",
        "\n",
        "# --- models ---\n",
        "from sklearn import preprocessing\n",
        "from sklearn.model_selection import KFold\n",
        "import lightgbm as lgb\n",
        "import xgboost as xgb\n",
        "import catboost as cb\n",
        "\n",
        "from sklearn.metrics import mean_squared_error"
      ]
    },
    {
      "cell_type": "code",
      "source": [
        "from google.colab import drive\n",
        "drive.mount('/content/drive')"
      ],
      "metadata": {
        "id": "tbAKd_u96mo9"
      },
      "execution_count": null,
      "outputs": []
    },
    {
      "cell_type": "code",
      "execution_count": null,
      "metadata": {
        "ExecuteTime": {
          "end_time": "2020-05-20T13:10:49.437286Z",
          "start_time": "2020-05-20T13:10:49.426723Z"
        },
        "id": "VnMhg-us5gOt"
      },
      "outputs": [],
      "source": [
        "# Original code from https://www.kaggle.com/gemartin/load-data-reduce-memory-usage by @gemartin\n",
        "# Modified to support timestamp type, categorical type\n",
        "# Modified to add option to use float16 or not. feather format does not support float16.\n",
        "from pandas.api.types import is_datetime64_any_dtype as is_datetime\n",
        "from pandas.api.types import is_categorical_dtype\n",
        "\n",
        "def reduce_mem_usage(df, use_float16=False):\n",
        "    \"\"\" iterate through all the columns of a dataframe and modify the data type\n",
        "        to reduce memory usage.\n",
        "    \"\"\"\n",
        "    start_mem = df.memory_usage().sum() / 1024**2\n",
        "    print('Memory usage of dataframe is {:.2f} MB'.format(start_mem))\n",
        "\n",
        "    for col in df.columns:\n",
        "        if is_datetime(df[col]) or is_categorical_dtype(df[col]):\n",
        "            # skip datetime type or categorical type\n",
        "            continue\n",
        "        col_type = df[col].dtype\n",
        "\n",
        "        if col_type != object:\n",
        "            c_min = df[col].min()\n",
        "            c_max = df[col].max()\n",
        "            if str(col_type)[:3] == 'int':\n",
        "                if c_min > np.iinfo(np.int8).min and c_max < np.iinfo(np.int8).max:\n",
        "                    df[col] = df[col].astype(np.int8)\n",
        "                elif c_min > np.iinfo(np.int16).min and c_max < np.iinfo(np.int16).max:\n",
        "                    df[col] = df[col].astype(np.int16)\n",
        "                elif c_min > np.iinfo(np.int32).min and c_max < np.iinfo(np.int32).max:\n",
        "                    df[col] = df[col].astype(np.int32)\n",
        "                elif c_min > np.iinfo(np.int64).min and c_max < np.iinfo(np.int64).max:\n",
        "                    df[col] = df[col].astype(np.int64)\n",
        "            else:\n",
        "                if use_float16 and c_min > np.finfo(np.float16).min and c_max < np.finfo(np.float16).max:\n",
        "                    df[col] = df[col].astype(np.float16)\n",
        "                elif c_min > np.finfo(np.float32).min and c_max < np.finfo(np.float32).max:\n",
        "                    df[col] = df[col].astype(np.float32)\n",
        "                else:\n",
        "                    df[col] = df[col].astype(np.float64)\n",
        "        else:\n",
        "            df[col] = df[col].astype('category')\n",
        "\n",
        "    end_mem = df.memory_usage().sum() / 1024**2\n",
        "    print('Memory usage after optimization is: {:.2f} MB'.format(end_mem))\n",
        "    print('Decreased by {:.1f}%'.format(100 * (start_mem - end_mem) / start_mem))\n",
        "\n",
        "    return df"
      ]
    },
    {
      "cell_type": "code",
      "execution_count": null,
      "metadata": {
        "ExecuteTime": {
          "end_time": "2020-05-20T13:10:50.119867Z",
          "start_time": "2020-05-20T13:10:49.438780Z"
        },
        "id": "PjrXGVIB5gOt",
        "outputId": "3e698699-aa7d-4946-e7f3-9d6b1f7a67be"
      },
      "outputs": [
        {
          "name": "stdout",
          "output_type": "stream",
          "text": [
            "CPU times: user 517 ms, sys: 753 ms, total: 1.27 s\n",
            "Wall time: 677 ms\n"
          ]
        }
      ],
      "source": [
        "%%time\n",
        "root = Path('../output/ashrae-feather-format-for-fast-loading')\n",
        "\n",
        "train_df = pd.read_feather(root/'train.feather')\n",
        "test_df = pd.read_feather(root/'test.feather')\n",
        "#weather_train_df = pd.read_feather(root/'weather_train.feather')\n",
        "#weather_test_df = pd.read_feather(root/'weather_test.feather')\n",
        "building_meta_df = pd.read_feather(root/'building_metadata.feather')"
      ]
    },
    {
      "cell_type": "code",
      "execution_count": null,
      "metadata": {
        "ExecuteTime": {
          "end_time": "2020-05-20T13:10:54.066389Z",
          "start_time": "2020-05-20T13:10:50.121241Z"
        },
        "id": "izALFbV55gOt",
        "outputId": "999fc6d4-d9cd-4037-e211-720b7154f90d"
      },
      "outputs": [
        {
          "name": "stdout",
          "output_type": "stream",
          "text": [
            "2016-01-01 00:00:00 2018-12-31 23:00:00\n"
          ]
        }
      ],
      "source": [
        "# i'm now using my leak data station kernel to shortcut.\n",
        "# leak_df = pd.read_feather('../input/ashrae-leak-data-station-v8/leak.feather')\n",
        "leak_df = pd.read_feather('../output/ashrae-leak-data-station/leak.feather')\n",
        "leak_df.fillna(0, inplace=True)\n",
        "print (leak_df.timestamp.min(), leak_df.timestamp.max())\n",
        "leak_df = leak_df[(leak_df.timestamp.dt.year > 2016) & (leak_df.timestamp.dt.year < 2019)]\n",
        "leak_df.loc[leak_df.meter_reading < 0, 'meter_reading'] = 0 # remove large negative values\n",
        "leak_df = leak_df[leak_df.building_id!=245]"
      ]
    },
    {
      "cell_type": "code",
      "execution_count": null,
      "metadata": {
        "ExecuteTime": {
          "end_time": "2020-05-20T13:10:54.203230Z",
          "start_time": "2020-05-20T13:10:54.067678Z"
        },
        "id": "lGf2LA__5gOu",
        "outputId": "a96c8974-96e6-48b4-a6fe-0edde71639a9"
      },
      "outputs": [
        {
          "data": {
            "text/plain": [
              "0.0    7512475\n",
              "1.0    2856222\n",
              "3.0     963600\n",
              "2.0     727682\n",
              "Name: meter, dtype: int64"
            ]
          },
          "execution_count": 12,
          "metadata": {},
          "output_type": "execute_result"
        }
      ],
      "source": [
        "leak_df.meter.value_counts()"
      ]
    },
    {
      "cell_type": "code",
      "execution_count": null,
      "metadata": {
        "ExecuteTime": {
          "end_time": "2020-05-20T13:10:56.435454Z",
          "start_time": "2020-05-20T13:10:54.204396Z"
        },
        "id": "Wn5MUFZI5gOu",
        "outputId": "401223aa-f11b-4e2f-85c3-16eac4f177cf"
      },
      "outputs": [
        {
          "name": "stdout",
          "output_type": "stream",
          "text": [
            "0\n"
          ]
        }
      ],
      "source": [
        "print (leak_df.duplicated().sum())"
      ]
    },
    {
      "cell_type": "code",
      "execution_count": null,
      "metadata": {
        "ExecuteTime": {
          "end_time": "2020-05-20T13:10:56.439239Z",
          "start_time": "2020-05-20T13:10:56.436695Z"
        },
        "id": "OmN7OhUy5gOu",
        "outputId": "6627f55e-155d-497f-c96d-b5e3bed7656d"
      },
      "outputs": [
        {
          "name": "stdout",
          "output_type": "stream",
          "text": [
            "0.5965531927523112\n"
          ]
        }
      ],
      "source": [
        "print (len(leak_df) / len(train_df))"
      ]
    },
    {
      "cell_type": "code",
      "execution_count": null,
      "metadata": {
        "ExecuteTime": {
          "end_time": "2020-05-20T13:10:56.581599Z",
          "start_time": "2020-05-20T13:10:56.441075Z"
        },
        "id": "p0sBlvmw5gOu",
        "outputId": "01249412-b029-4b5f-b168-757575d543dc"
      },
      "outputs": [
        {
          "name": "stdout",
          "output_type": "stream",
          "text": [
            "ashrae-energy-prediction\r\n"
          ]
        }
      ],
      "source": [
        "! ls ../input"
      ]
    },
    {
      "cell_type": "code",
      "execution_count": null,
      "metadata": {
        "ExecuteTime": {
          "end_time": "2020-05-20T13:10:56.661306Z",
          "start_time": "2020-05-20T13:10:56.583399Z"
        },
        "id": "BODfO0a65gOu",
        "outputId": "fadd1833-890c-4990-faf5-06b91b398e2e"
      },
      "outputs": [
        {
          "data": {
            "text/plain": [
              "74"
            ]
          },
          "execution_count": 16,
          "metadata": {},
          "output_type": "execute_result"
        }
      ],
      "source": [
        "del train_df\n",
        "gc.collect()"
      ]
    },
    {
      "cell_type": "markdown",
      "metadata": {
        "id": "CMvflAWh5gOu"
      },
      "source": [
        "# Leak Validation for public kernels(not used leak data)"
      ]
    },
    {
      "cell_type": "code",
      "execution_count": null,
      "metadata": {
        "ExecuteTime": {
          "end_time": "2020-05-20T13:11:25.182074Z",
          "start_time": "2020-05-20T13:10:56.662517Z"
        },
        "id": "m1aPt7B85gOu",
        "outputId": "40e9eef4-1d07-4525-fea2-c06306e3f488"
      },
      "outputs": [
        {
          "name": "stderr",
          "output_type": "stream",
          "text": [
            "/home/ubuntu/anaconda3/envs/tensorflow_p36/lib/python3.6/site-packages/numpy/lib/arraysetops.py:569: FutureWarning:\n",
            "\n",
            "elementwise comparison failed; returning scalar instead, but in the future will perform elementwise comparison\n",
            "\n"
          ]
        },
        {
          "data": {
            "text/plain": [
              "7"
            ]
          },
          "execution_count": 17,
          "metadata": {},
          "output_type": "execute_result"
        }
      ],
      "source": [
        "# sample_submission1 = pd.read_csv('../input/ashrae-kfold-lightgbm-without-leak-1-08/submission.csv', index_col=0)\n",
        "# sample_submission2 = pd.read_csv('../input/ashrae-half-and-half/submission.csv', index_col=0)\n",
        "# sample_submission3 = pd.read_csv('../input/ashrae-highway-kernel-route4/submission.csv', index_col=0)\n",
        "\n",
        "# sample_submission = pd.read_csv('../input/as-blend-with-2fold-5fold-meter/submission.csv', index_col=1)\n",
        "\n",
        "# v2版本\n",
        "sample_submission1 = pd.read_csv('../output/ashrae-kfold-lightgbm-without-leak-1-08/submission.csv', index_col=0)\n",
        "# sample_submission1 = pd.read_csv('../input/as-other-without-leak-blend/submission.csv', index_col=0)\n",
        "# sample_submission1 = pd.read_csv('../input/ashrae-kfold-lightgbm-without-leak-xgb-pred/submission.csv', index_col=0)\n",
        "# sample_submission1 = pd.read_csv('../input/ashrae-kfold-lightgbm-without-leak-d13-pred/submission.csv', index_col=0)\n",
        "# sample_submission1 = pd.read_csv('../input/ashrae-kfold-lightgbm-without-leak-d14-pred/submission.csv', index_col=0)\n",
        "\n",
        "\n",
        "# sample_submission2 = pd.read_csv('../input/as-2kfold-model5-0-pred/submission.csv', index_col=1)\n",
        "# sample_submission2 = pd.read_csv('../input/fork-of-as-2kfold-model6-pred/submission.csv', index_col=1)\n",
        "# sample_submission2 = pd.read_csv('../input/fork-of-as-2kfold-model6-0-pred/submission.csv', index_col=1)\n",
        "# sample_submission2 = pd.read_csv('../input/fork-of-as-2kfold-model6-1-pred/submission.csv', index_col=1)\n",
        "# sample_submission2 = pd.read_csv('../input/fork-of-as-2kfold-model6-xgb-pred/submission.csv', index_col=1)\n",
        "sample_submission2 = pd.read_csv('../output/fork-of-as-2kfold-model6-xgb-fr7d12-pred/submission.csv', index_col=1)\n",
        "\n",
        "# sample_submission3 = pd.read_csv('../input/as-meter2-no-1099/submission.csv', index_col=0)\n",
        "sample_submission3 = pd.read_csv('../output/as-meter2-no-1099-xgb/submission.csv', index_col=0)\n",
        "\n",
        "\n",
        "# sample_submission4 = pd.read_csv('../input/as-5kfold-model4-no-dt-w-no1099-pred/submission.csv', index_col=1)\n",
        "# sample_submission4 = pd.read_csv('../input/as-5kfold-model5-no1099-pred/submission.csv', index_col=1)\n",
        "\n",
        "# sample_submission5 = pd.read_csv('../input/ashrae-simple-data-cleanup-lb-1-08-no-leaks/submission.csv', index_col=0)\n",
        "# 用的是v10版本\n",
        "# sample_submission5 = pd.read_csv('../input/ashrae-energy-prediction-using-stratified-kfold/fe2_lgbm.csv', index_col=0)\n",
        "# sample_submission5 = pd.read_csv('../input/ashrae-divide-and-conquer/submission.csv')\n",
        "# sample_submission5 = sample_submission5.sort_values('row_id')\n",
        "\n",
        "gc.collect()"
      ]
    },
    {
      "cell_type": "code",
      "execution_count": null,
      "metadata": {
        "ExecuteTime": {
          "end_time": "2020-05-20T13:11:26.092985Z",
          "start_time": "2020-05-20T13:11:25.183240Z"
        },
        "id": "x_VFp-Xj5gOv",
        "outputId": "e9005033-9fe0-47c1-fbf3-cf9480066248"
      },
      "outputs": [
        {
          "data": {
            "text/plain": [
              "14"
            ]
          },
          "execution_count": 18,
          "metadata": {},
          "output_type": "execute_result"
        }
      ],
      "source": [
        "# test_df['pred1'] = sample_submission1.meter_reading\n",
        "# test_df['pred2'] = sample_submission2.meter_reading\n",
        "# test_df['pred3'] = sample_submission3.meter_reading\n",
        "\n",
        "# test_df.loc[test_df.pred3<0, 'pred3'] = 0\n",
        "\n",
        "# test_df['pred_o'] = sample_submission.meter_reading\n",
        "# del sample_submission\n",
        "# gc.collect()\n",
        "\n",
        "\n",
        "test_df['pred1'] = sample_submission1.meter_reading\n",
        "del sample_submission1\n",
        "gc.collect()\n",
        "\n",
        "test_df['pred2'] = sample_submission2.meter_reading\n",
        "del sample_submission2\n",
        "gc.collect()\n",
        "\n",
        "test_df['pred3'] = sample_submission3.meter_reading\n",
        "del sample_submission3\n",
        "gc.collect()\n",
        "\n",
        "# test_df['pred4'] = sample_submission4.meter_reading\n",
        "# del sample_submission4\n",
        "# gc.collect()\n",
        "\n",
        "\n",
        "# # test_df['pred5'] = sample_submission5.meter_reading\n",
        "# test_df['pred5'] = sample_submission5.meter_reading.values\n",
        "# del sample_submission5\n",
        "# gc.collect()\n",
        "\n",
        "\n",
        "# del  sample_submission1,  sample_submission2,  sample_submission3\n",
        "# del sample_submission, sample_submission1,  sample_submission2,  sample_submission3\n",
        "# gc.collect()\n",
        "\n",
        "# test_df = reduce_mem_usage(test_df)\n",
        "# leak_df = reduce_mem_usage(leak_df)"
      ]
    },
    {
      "cell_type": "code",
      "execution_count": null,
      "metadata": {
        "ExecuteTime": {
          "end_time": "2020-05-20T13:11:46.556781Z",
          "start_time": "2020-05-20T13:11:26.094159Z"
        },
        "id": "JDpDj3ZW5gOv"
      },
      "outputs": [],
      "source": [
        "leak_df = leak_df.merge(test_df[['building_id', 'meter', 'timestamp', 'pred1', 'pred2', 'pred3', 'row_id']], left_on = ['building_id', 'meter', 'timestamp'], right_on = ['building_id', 'meter', 'timestamp'], how = \"left\")\n",
        "leak_df = leak_df.merge(building_meta_df[['building_id', 'site_id']], on='building_id', how='left')"
      ]
    },
    {
      "cell_type": "code",
      "execution_count": null,
      "metadata": {
        "ExecuteTime": {
          "end_time": "2020-05-20T13:11:47.594933Z",
          "start_time": "2020-05-20T13:11:46.558082Z"
        },
        "id": "gSBJkoxw5gOv",
        "outputId": "b32873e1-360e-4284-9f51-4c06c6df2b63"
      },
      "outputs": [
        {
          "data": {
            "text/plain": [
              "84"
            ]
          },
          "execution_count": 20,
          "metadata": {},
          "output_type": "execute_result"
        }
      ],
      "source": [
        "# leak_df['pred_o_l1p'] = np.log1p(leak_df.pred_o)\n",
        "\n",
        "leak_df['pred1_l1p'] = np.log1p(leak_df.pred1)\n",
        "leak_df['pred2_l1p'] = np.log1p(leak_df.pred2)\n",
        "leak_df['pred3_l1p'] = np.log1p(leak_df.pred3)\n",
        "# leak_df['pred4_l1p'] = np.log1p(leak_df.pred4)\n",
        "\n",
        "# leak_df['pred5_l1p'] = np.log1p(leak_df.pred5)\n",
        "\n",
        "leak_df['meter_reading_l1p'] = np.log1p(leak_df.meter_reading)\n",
        "gc.collect()"
      ]
    },
    {
      "cell_type": "code",
      "execution_count": null,
      "metadata": {
        "ExecuteTime": {
          "end_time": "2020-05-20T13:11:47.612446Z",
          "start_time": "2020-05-20T13:11:47.596110Z"
        },
        "id": "V9OTovMa5gOv",
        "outputId": "8f9bc472-219a-4490-d732-c34ea972965d"
      },
      "outputs": [
        {
          "data": {
            "text/html": [
              "<div>\n",
              "<style scoped>\n",
              "    .dataframe tbody tr th:only-of-type {\n",
              "        vertical-align: middle;\n",
              "    }\n",
              "\n",
              "    .dataframe tbody tr th {\n",
              "        vertical-align: top;\n",
              "    }\n",
              "\n",
              "    .dataframe thead th {\n",
              "        text-align: right;\n",
              "    }\n",
              "</style>\n",
              "<table border=\"1\" class=\"dataframe\">\n",
              "  <thead>\n",
              "    <tr style=\"text-align: right;\">\n",
              "      <th></th>\n",
              "      <th>building_id</th>\n",
              "      <th>meter</th>\n",
              "      <th>meter_reading</th>\n",
              "      <th>timestamp</th>\n",
              "      <th>pred1</th>\n",
              "      <th>pred2</th>\n",
              "      <th>pred3</th>\n",
              "      <th>row_id</th>\n",
              "      <th>site_id</th>\n",
              "      <th>pred1_l1p</th>\n",
              "      <th>pred2_l1p</th>\n",
              "      <th>pred3_l1p</th>\n",
              "      <th>meter_reading_l1p</th>\n",
              "    </tr>\n",
              "  </thead>\n",
              "  <tbody>\n",
              "    <tr>\n",
              "      <th>0</th>\n",
              "      <td>0</td>\n",
              "      <td>0.0</td>\n",
              "      <td>173.370293</td>\n",
              "      <td>2017-01-01</td>\n",
              "      <td>186.168107</td>\n",
              "      <td>144.790047</td>\n",
              "      <td>169.0462</td>\n",
              "      <td>0</td>\n",
              "      <td>0</td>\n",
              "      <td>5.232007</td>\n",
              "      <td>4.982168</td>\n",
              "      <td>5.136070</td>\n",
              "      <td>5.161181</td>\n",
              "    </tr>\n",
              "    <tr>\n",
              "      <th>1</th>\n",
              "      <td>1</td>\n",
              "      <td>0.0</td>\n",
              "      <td>53.512720</td>\n",
              "      <td>2017-01-01</td>\n",
              "      <td>85.102571</td>\n",
              "      <td>69.022503</td>\n",
              "      <td>71.9008</td>\n",
              "      <td>1</td>\n",
              "      <td>0</td>\n",
              "      <td>4.455539</td>\n",
              "      <td>4.248817</td>\n",
              "      <td>4.289100</td>\n",
              "      <td>3.998434</td>\n",
              "    </tr>\n",
              "    <tr>\n",
              "      <th>2</th>\n",
              "      <td>2</td>\n",
              "      <td>0.0</td>\n",
              "      <td>6.143042</td>\n",
              "      <td>2017-01-01</td>\n",
              "      <td>13.020658</td>\n",
              "      <td>7.801228</td>\n",
              "      <td>7.5950</td>\n",
              "      <td>2</td>\n",
              "      <td>0</td>\n",
              "      <td>2.640532</td>\n",
              "      <td>2.174891</td>\n",
              "      <td>2.151181</td>\n",
              "      <td>1.966139</td>\n",
              "    </tr>\n",
              "    <tr>\n",
              "      <th>3</th>\n",
              "      <td>3</td>\n",
              "      <td>0.0</td>\n",
              "      <td>101.701470</td>\n",
              "      <td>2017-01-01</td>\n",
              "      <td>249.669041</td>\n",
              "      <td>249.000580</td>\n",
              "      <td>298.2076</td>\n",
              "      <td>3</td>\n",
              "      <td>0</td>\n",
              "      <td>5.524134</td>\n",
              "      <td>5.521463</td>\n",
              "      <td>5.701138</td>\n",
              "      <td>4.631826</td>\n",
              "    </tr>\n",
              "    <tr>\n",
              "      <th>4</th>\n",
              "      <td>4</td>\n",
              "      <td>0.0</td>\n",
              "      <td>1141.240666</td>\n",
              "      <td>2017-01-01</td>\n",
              "      <td>1130.942372</td>\n",
              "      <td>1180.897888</td>\n",
              "      <td>1354.3573</td>\n",
              "      <td>4</td>\n",
              "      <td>0</td>\n",
              "      <td>7.031690</td>\n",
              "      <td>7.074877</td>\n",
              "      <td>7.211820</td>\n",
              "      <td>7.040747</td>\n",
              "    </tr>\n",
              "  </tbody>\n",
              "</table>\n",
              "</div>"
            ],
            "text/plain": [
              "   building_id  meter  meter_reading  timestamp        pred1        pred2  \\\n",
              "0            0    0.0     173.370293 2017-01-01   186.168107   144.790047   \n",
              "1            1    0.0      53.512720 2017-01-01    85.102571    69.022503   \n",
              "2            2    0.0       6.143042 2017-01-01    13.020658     7.801228   \n",
              "3            3    0.0     101.701470 2017-01-01   249.669041   249.000580   \n",
              "4            4    0.0    1141.240666 2017-01-01  1130.942372  1180.897888   \n",
              "\n",
              "       pred3  row_id  site_id  pred1_l1p  pred2_l1p  pred3_l1p  \\\n",
              "0   169.0462       0        0   5.232007   4.982168   5.136070   \n",
              "1    71.9008       1        0   4.455539   4.248817   4.289100   \n",
              "2     7.5950       2        0   2.640532   2.174891   2.151181   \n",
              "3   298.2076       3        0   5.524134   5.521463   5.701138   \n",
              "4  1354.3573       4        0   7.031690   7.074877   7.211820   \n",
              "\n",
              "   meter_reading_l1p  \n",
              "0           5.161181  \n",
              "1           3.998434  \n",
              "2           1.966139  \n",
              "3           4.631826  \n",
              "4           7.040747  "
            ]
          },
          "execution_count": 21,
          "metadata": {},
          "output_type": "execute_result"
        }
      ],
      "source": [
        "leak_df.head()"
      ]
    },
    {
      "cell_type": "code",
      "execution_count": null,
      "metadata": {
        "ExecuteTime": {
          "end_time": "2020-05-20T13:11:48.367871Z",
          "start_time": "2020-05-20T13:11:47.613529Z"
        },
        "id": "WJcYTnhn5gOv",
        "outputId": "49a056ca-57bd-4b93-82b0-f0da97ab4e0e"
      },
      "outputs": [
        {
          "data": {
            "text/html": [
              "<div>\n",
              "<style scoped>\n",
              "    .dataframe tbody tr th:only-of-type {\n",
              "        vertical-align: middle;\n",
              "    }\n",
              "\n",
              "    .dataframe tbody tr th {\n",
              "        vertical-align: top;\n",
              "    }\n",
              "\n",
              "    .dataframe thead th {\n",
              "        text-align: right;\n",
              "    }\n",
              "</style>\n",
              "<table border=\"1\" class=\"dataframe\">\n",
              "  <thead>\n",
              "    <tr style=\"text-align: right;\">\n",
              "      <th></th>\n",
              "      <th>building_id</th>\n",
              "      <th>meter</th>\n",
              "      <th>meter_reading</th>\n",
              "      <th>timestamp</th>\n",
              "      <th>pred1</th>\n",
              "      <th>pred2</th>\n",
              "      <th>pred3</th>\n",
              "      <th>row_id</th>\n",
              "      <th>site_id</th>\n",
              "      <th>pred1_l1p</th>\n",
              "      <th>pred2_l1p</th>\n",
              "      <th>pred3_l1p</th>\n",
              "      <th>meter_reading_l1p</th>\n",
              "    </tr>\n",
              "  </thead>\n",
              "  <tbody>\n",
              "  </tbody>\n",
              "</table>\n",
              "</div>"
            ],
            "text/plain": [
              "Empty DataFrame\n",
              "Columns: [building_id, meter, meter_reading, timestamp, pred1, pred2, pred3, row_id, site_id, pred1_l1p, pred2_l1p, pred3_l1p, meter_reading_l1p]\n",
              "Index: []"
            ]
          },
          "execution_count": 22,
          "metadata": {},
          "output_type": "execute_result"
        }
      ],
      "source": [
        "leak_df[leak_df.pred1_l1p.isnull()]"
      ]
    },
    {
      "cell_type": "code",
      "execution_count": null,
      "metadata": {
        "ExecuteTime": {
          "end_time": "2020-05-20T13:11:48.370771Z",
          "start_time": "2020-05-20T13:11:48.369047Z"
        },
        "id": "uuIzhXCN5gOv"
      },
      "outputs": [],
      "source": [
        "# #上一次blend\n",
        "# sns.distplot(leak_df.pred_o_l1p)\n",
        "# sns.distplot(leak_df.meter_reading_l1p)\n",
        "\n",
        "# leak_score = np.sqrt(mean_squared_error(leak_df.pred_o_l1p, leak_df.meter_reading_l1p))\n",
        "# print ('score1=', leak_score)"
      ]
    },
    {
      "cell_type": "code",
      "execution_count": null,
      "metadata": {
        "ExecuteTime": {
          "end_time": "2020-05-20T13:11:58.713356Z",
          "start_time": "2020-05-20T13:11:48.371858Z"
        },
        "id": "lyP-IwMi5gOv",
        "outputId": "413f6708-7566-410f-9bb6-f3b61bcaf799"
      },
      "outputs": [
        {
          "name": "stdout",
          "output_type": "stream",
          "text": [
            "score1= 0.9855484904516869\n"
          ]
        },
        {
          "data": {
            "image/png": "[encoded data removed]",
            "text/plain": [
              "<Figure size 432x288 with 1 Axes>"
            ]
          },
          "metadata": {
            "needs_background": "light"
          },
          "output_type": "display_data"
        }
      ],
      "source": [
        "#ashrae-kfold-lightgbm-without-leak-1-08\n",
        "sns.distplot(leak_df.pred1_l1p)\n",
        "sns.distplot(leak_df.meter_reading_l1p)\n",
        "\n",
        "leak_score = np.sqrt(mean_squared_error(leak_df.pred1_l1p, leak_df.meter_reading_l1p))\n",
        "print ('score1=', leak_score)"
      ]
    },
    {
      "cell_type": "code",
      "execution_count": null,
      "metadata": {
        "ExecuteTime": {
          "end_time": "2020-05-20T13:12:09.022875Z",
          "start_time": "2020-05-20T13:11:58.714560Z"
        },
        "id": "Jd7Inbci5gOv",
        "outputId": "9b6c5af6-aca9-4131-cdbb-7fec055f30a0"
      },
      "outputs": [
        {
          "name": "stdout",
          "output_type": "stream",
          "text": [
            "score2= 0.971224777982656\n"
          ]
        },
        {
          "data": {
            "image/png": "[encoded data removed]",
            "text/plain": [
              "<Figure size 432x288 with 1 Axes>"
            ]
          },
          "metadata": {
            "needs_background": "light"
          },
          "output_type": "display_data"
        }
      ],
      "source": [
        "#2折1.08\n",
        "sns.distplot(leak_df.pred2_l1p)\n",
        "sns.distplot(leak_df.meter_reading_l1p)\n",
        "\n",
        "leak_score = np.sqrt(mean_squared_error(leak_df.pred2_l1p, leak_df.meter_reading_l1p))\n",
        "print ('score2=', leak_score)"
      ]
    },
    {
      "cell_type": "code",
      "execution_count": null,
      "metadata": {
        "ExecuteTime": {
          "end_time": "2020-05-20T13:12:19.253409Z",
          "start_time": "2020-05-20T13:12:09.024068Z"
        },
        "id": "ZISAFsQH5gOv",
        "outputId": "d53518e4-041a-467c-f30a-12ca94b76b34"
      },
      "outputs": [
        {
          "name": "stdout",
          "output_type": "stream",
          "text": [
            "score3= 0.9528127138774507\n"
          ]
        },
        {
          "data": {
            "image/png": "[encoded data removed]",
            "text/plain": [
              "<Figure size 432x288 with 1 Axes>"
            ]
          },
          "metadata": {
            "needs_background": "light"
          },
          "output_type": "display_data"
        }
      ],
      "source": [
        "# meter split based 1.07\n",
        "sns.distplot(leak_df.pred3_l1p)\n",
        "sns.distplot(leak_df.meter_reading_l1p)\n",
        "\n",
        "leak_score = np.sqrt(mean_squared_error(leak_df.pred3_l1p, leak_df.meter_reading_l1p))\n",
        "print ('score3=', leak_score)"
      ]
    },
    {
      "cell_type": "code",
      "execution_count": null,
      "metadata": {
        "ExecuteTime": {
          "end_time": "2020-05-20T13:12:19.256367Z",
          "start_time": "2020-05-20T13:12:19.254580Z"
        },
        "id": "bjld4FSN5gOv"
      },
      "outputs": [],
      "source": [
        "# ashrae-kfold-lightgbm-without-leak-1-08 looks best"
      ]
    },
    {
      "cell_type": "markdown",
      "metadata": {
        "id": "tBo5qLR65gOv"
      },
      "source": [
        "# Leak Validation for Blending"
      ]
    },
    {
      "cell_type": "markdown",
      "metadata": {
        "id": "H-OQurUa5gOv"
      },
      "source": [
        "A one idea how we can use LV usefull is blending. We probably can find best blending method without LB probing and it's means we can save our submission."
      ]
    },
    {
      "cell_type": "code",
      "execution_count": null,
      "metadata": {
        "ExecuteTime": {
          "end_time": "2020-05-20T13:12:19.260315Z",
          "start_time": "2020-05-20T13:12:19.257492Z"
        },
        "id": "H_iOKJsy5gOw"
      },
      "outputs": [],
      "source": [
        "# leak_df['mean_pred'] = np.mean(leak_df[['pred1', 'pred2', 'pred3']].values, axis=1)\n",
        "# leak_df['mean_pred_l1p'] = np.log1p(leak_df.mean_pred)\n",
        "# leak_score = np.sqrt(mean_squared_error(leak_df.mean_pred_l1p, leak_df.meter_reading_l1p))\n",
        "\n",
        "\n",
        "# sns.distplot(leak_df.mean_pred_l1p)\n",
        "# sns.distplot(leak_df.meter_reading_l1p)\n",
        "\n",
        "# print ('mean score=', leak_score)"
      ]
    },
    {
      "cell_type": "code",
      "execution_count": null,
      "metadata": {
        "ExecuteTime": {
          "end_time": "2020-05-20T13:12:19.263349Z",
          "start_time": "2020-05-20T13:12:19.261466Z"
        },
        "id": "3DMvtLUL5gOw"
      },
      "outputs": [],
      "source": [
        "# leak_df['median_pred'] = np.median(leak_df[['pred1', 'pred2', 'pred3']].values, axis=1)\n",
        "# leak_df['median_pred_l1p'] = np.log1p(leak_df.median_pred)\n",
        "# leak_score = np.sqrt(mean_squared_error(leak_df.median_pred_l1p, leak_df.meter_reading_l1p))\n",
        "\n",
        "# sns.distplot(leak_df.median_pred_l1p)\n",
        "# sns.distplot(leak_df.meter_reading_l1p)\n",
        "\n",
        "# print ('meadian score=', leak_score)"
      ]
    },
    {
      "cell_type": "markdown",
      "metadata": {
        "id": "1xERK6Oy5gOw"
      },
      "source": [
        "Ummm... it looks mean blending is beter than median blending"
      ]
    },
    {
      "cell_type": "code",
      "execution_count": null,
      "metadata": {
        "ExecuteTime": {
          "end_time": "2020-05-20T13:12:19.267959Z",
          "start_time": "2020-05-20T13:12:19.265888Z"
        },
        "id": "Td9lqoag5gOw"
      },
      "outputs": [],
      "source": [
        "# # 上一次的比例, 按原始比例,验证分数降低\n",
        "# leak_df['blend_pred'] = (0.21 * leak_df.pred2 + 0.28 * leak_df.pred3 + 0.27 * leak_df.pred4 + leak_df.pred_o) / 1.76\n",
        "# leak_df['blend_pred_l1p'] = np.log1p(leak_df.blend_pred)\n",
        "# leak_score = np.sqrt(mean_squared_error(leak_df.blend_pred_l1p, leak_df.meter_reading_l1p))\n",
        "\n",
        "\n",
        "# sns.distplot(leak_df.blend_pred_l1p)\n",
        "# sns.distplot(leak_df.meter_reading_l1p)\n",
        "\n",
        "# print ('mean score=', leak_score)"
      ]
    },
    {
      "cell_type": "code",
      "execution_count": null,
      "metadata": {
        "ExecuteTime": {
          "end_time": "2020-05-20T13:12:19.271176Z",
          "start_time": "2020-05-20T13:12:19.269411Z"
        },
        "id": "iFdE02cI5gOw"
      },
      "outputs": [],
      "source": [
        "# # 上一次的比例, 按原始比例,验证分数降低\n",
        "# leak_df['blend_pred'] = 0.25 * leak_df.pred1 + 0.25 * leak_df.pred2 + 0.25 * leak_df.pred3 + 0.25 * leak_df.pred4\n",
        "# leak_df['blend_pred_l1p'] = np.log1p(leak_df.blend_pred)\n",
        "# leak_score = np.sqrt(mean_squared_error(leak_df.blend_pred_l1p, leak_df.meter_reading_l1p))\n",
        "\n",
        "\n",
        "# sns.distplot(leak_df.blend_pred_l1p)\n",
        "# sns.distplot(leak_df.meter_reading_l1p)\n",
        "\n",
        "# print ('mean score=', leak_score)"
      ]
    },
    {
      "cell_type": "code",
      "execution_count": null,
      "metadata": {
        "ExecuteTime": {
          "end_time": "2020-05-20T13:12:19.274631Z",
          "start_time": "2020-05-20T13:12:19.272283Z"
        },
        "id": "rpjnAgwM5gOw"
      },
      "outputs": [],
      "source": [
        "# # 上一次的比例, 按原始比例,验证分数降低\n",
        "# leak_df['blend_pred'] = 0.35 * leak_df.pred1 + 0.15 * leak_df.pred2 + 0.45 * leak_df.pred3 + 0.05 * leak_df.pred4\n",
        "# leak_df['blend_pred_l1p'] = np.log1p(leak_df.blend_pred)\n",
        "# leak_score = np.sqrt(mean_squared_error(leak_df.blend_pred_l1p, leak_df.meter_reading_l1p))\n",
        "\n",
        "\n",
        "# sns.distplot(leak_df.blend_pred_l1p)\n",
        "# sns.distplot(leak_df.meter_reading_l1p)\n",
        "\n",
        "# print ('mean score=', leak_score)"
      ]
    },
    {
      "cell_type": "code",
      "execution_count": null,
      "metadata": {
        "ExecuteTime": {
          "end_time": "2020-05-20T13:12:20.650771Z",
          "start_time": "2020-05-20T13:12:19.275740Z"
        },
        "id": "tH2FNmsK5gOw",
        "outputId": "8ec213de-587c-426d-af56-a3655b6b5265"
      },
      "outputs": [
        {
          "data": {
            "text/html": [
              "<div>\n",
              "<style scoped>\n",
              "    .dataframe tbody tr th:only-of-type {\n",
              "        vertical-align: middle;\n",
              "    }\n",
              "\n",
              "    .dataframe tbody tr th {\n",
              "        vertical-align: top;\n",
              "    }\n",
              "\n",
              "    .dataframe thead th {\n",
              "        text-align: right;\n",
              "    }\n",
              "</style>\n",
              "<table border=\"1\" class=\"dataframe\">\n",
              "  <thead>\n",
              "    <tr style=\"text-align: right;\">\n",
              "      <th></th>\n",
              "      <th>pred1</th>\n",
              "      <th>pred2</th>\n",
              "      <th>pred3</th>\n",
              "    </tr>\n",
              "  </thead>\n",
              "  <tbody>\n",
              "    <tr>\n",
              "      <th>pred1</th>\n",
              "      <td>1.000000</td>\n",
              "      <td>0.959267</td>\n",
              "      <td>0.927487</td>\n",
              "    </tr>\n",
              "    <tr>\n",
              "      <th>pred2</th>\n",
              "      <td>0.959267</td>\n",
              "      <td>1.000000</td>\n",
              "      <td>0.919599</td>\n",
              "    </tr>\n",
              "    <tr>\n",
              "      <th>pred3</th>\n",
              "      <td>0.927487</td>\n",
              "      <td>0.919599</td>\n",
              "      <td>1.000000</td>\n",
              "    </tr>\n",
              "  </tbody>\n",
              "</table>\n",
              "</div>"
            ],
            "text/plain": [
              "          pred1     pred2     pred3\n",
              "pred1  1.000000  0.959267  0.927487\n",
              "pred2  0.959267  1.000000  0.919599\n",
              "pred3  0.927487  0.919599  1.000000"
            ]
          },
          "execution_count": 33,
          "metadata": {},
          "output_type": "execute_result"
        }
      ],
      "source": [
        "test_df[['pred1', 'pred2', 'pred3']].corr()"
      ]
    },
    {
      "cell_type": "code",
      "execution_count": null,
      "metadata": {
        "ExecuteTime": {
          "end_time": "2020-05-20T13:12:20.653777Z",
          "start_time": "2020-05-20T13:12:20.651948Z"
        },
        "id": "FH6mrvzM5gOw"
      },
      "outputs": [],
      "source": [
        "# # 上一次的比例, 按原始比例,验证分数降低\n",
        "# leak_df['blend_pred'] = 0.4 * leak_df.pred1 + 0.15 * leak_df.pred2 + 0.4 * leak_df.pred3 + 0.05 * leak_df.pred4\n",
        "# leak_df['blend_pred_l1p'] = np.log1p(leak_df.blend_pred)\n",
        "# leak_score = np.sqrt(mean_squared_error(leak_df.blend_pred_l1p, leak_df.meter_reading_l1p))\n",
        "\n",
        "\n",
        "# sns.distplot(leak_df.blend_pred_l1p)\n",
        "# sns.distplot(leak_df.meter_reading_l1p)\n",
        "\n",
        "# print ('mean score=', leak_score)"
      ]
    },
    {
      "cell_type": "code",
      "execution_count": null,
      "metadata": {
        "ExecuteTime": {
          "end_time": "2020-05-20T13:12:31.437755Z",
          "start_time": "2020-05-20T13:12:20.655002Z"
        },
        "id": "toC8tUeN5gOw",
        "outputId": "390b49c4-1abb-4868-e779-19f4eaaff8a4"
      },
      "outputs": [
        {
          "name": "stdout",
          "output_type": "stream",
          "text": [
            "mean score= 0.9498280225033974\n"
          ]
        },
        {
          "data": {
            "image/png": "[encoded data removed]",
            "text/plain": [
              "<Figure size 432x288 with 1 Axes>"
            ]
          },
          "metadata": {
            "needs_background": "light"
          },
          "output_type": "display_data"
        }
      ],
      "source": [
        "# 上一次的比例, 按原始比例,验证分数降低\n",
        "leak_df['blend_pred'] = 0.45 * leak_df.pred1 + 0.25 * leak_df.pred2 + 0.3 * leak_df.pred3\n",
        "leak_df['blend_pred_l1p'] = np.log1p(leak_df.blend_pred)\n",
        "leak_score = np.sqrt(mean_squared_error(leak_df.blend_pred_l1p, leak_df.meter_reading_l1p))\n",
        "\n",
        "\n",
        "sns.distplot(leak_df.blend_pred_l1p)\n",
        "sns.distplot(leak_df.meter_reading_l1p)\n",
        "\n",
        "print ('mean score=', leak_score)"
      ]
    },
    {
      "cell_type": "code",
      "execution_count": null,
      "metadata": {
        "ExecuteTime": {
          "end_time": "2020-05-20T13:12:31.440815Z",
          "start_time": "2020-05-20T13:12:31.438989Z"
        },
        "id": "AcSbccK85gOw"
      },
      "outputs": [],
      "source": [
        "# # 上一次的比例, 按原始比例,验证分数降低\n",
        "# leak_df['blend_pred'] = 0.3 * leak_df.pred1 + 0.05 * leak_df.pred2 + 0.65 * leak_df.pred3 + 0.00 * leak_df.pred4\n",
        "# leak_df['blend_pred_l1p'] = np.log1p(leak_df.blend_pred)\n",
        "# leak_score = np.sqrt(mean_squared_error(leak_df.blend_pred_l1p, leak_df.meter_reading_l1p))\n",
        "\n",
        "\n",
        "# sns.distplot(leak_df.blend_pred_l1p)\n",
        "# sns.distplot(leak_df.meter_reading_l1p)\n",
        "\n",
        "# print ('mean score=', leak_score)"
      ]
    },
    {
      "cell_type": "code",
      "execution_count": null,
      "metadata": {
        "ExecuteTime": {
          "end_time": "2020-05-20T13:12:31.444805Z",
          "start_time": "2020-05-20T13:12:31.441918Z"
        },
        "id": "Xgz4Qa-n5gOw"
      },
      "outputs": [],
      "source": [
        "# # 上一次的比例, 按原始比例,验证分数降低\n",
        "# leak_df['blend_pred'] = (0.3 * leak_df.pred1 + 0.05 * leak_df.pred2 + 0.65 * leak_df.pred3 + 0.00 * leak_df.pred4) * 0.9\n",
        "# leak_df['blend_pred_l1p'] = np.log1p(leak_df.blend_pred)\n",
        "# leak_score = np.sqrt(mean_squared_error(leak_df.blend_pred_l1p, leak_df.meter_reading_l1p))\n",
        "\n",
        "\n",
        "# sns.distplot(leak_df.blend_pred_l1p)\n",
        "# sns.distplot(leak_df.meter_reading_l1p)\n",
        "\n",
        "# print ('mean score=', leak_score)"
      ]
    },
    {
      "cell_type": "code",
      "execution_count": null,
      "metadata": {
        "ExecuteTime": {
          "end_time": "2020-05-20T13:12:42.288495Z",
          "start_time": "2020-05-20T13:12:31.445859Z"
        },
        "id": "2wKJT7Zm5gOw",
        "outputId": "71c64cc5-f28c-4a6e-af58-ea7db5ea2559"
      },
      "outputs": [
        {
          "name": "stdout",
          "output_type": "stream",
          "text": [
            "mean score= 0.9454484616338069\n"
          ]
        },
        {
          "data": {
            "image/png": "[encoded data removed]",
            "text/plain": [
              "<Figure size 432x288 with 1 Axes>"
            ]
          },
          "metadata": {
            "needs_background": "light"
          },
          "output_type": "display_data"
        }
      ],
      "source": [
        "# 上一次的比例, 按原始比例,验证分数降低\n",
        "leak_df['blend_pred'] = (0.45 * leak_df.pred1 + 0.25 * leak_df.pred2 + 0.3 * leak_df.pred3) * 0.91\n",
        "leak_df['blend_pred_l1p'] = np.log1p(leak_df.blend_pred)\n",
        "leak_score = np.sqrt(mean_squared_error(leak_df.blend_pred_l1p, leak_df.meter_reading_l1p))\n",
        "\n",
        "\n",
        "sns.distplot(leak_df.blend_pred_l1p)\n",
        "sns.distplot(leak_df.meter_reading_l1p)\n",
        "\n",
        "print ('mean score=', leak_score)"
      ]
    },
    {
      "cell_type": "code",
      "execution_count": null,
      "metadata": {
        "ExecuteTime": {
          "end_time": "2020-05-20T13:12:42.291534Z",
          "start_time": "2020-05-20T13:12:42.289736Z"
        },
        "id": "Fh_wNyXk5gOw"
      },
      "outputs": [],
      "source": [
        "# import matplotlib.pyplot as plt"
      ]
    },
    {
      "cell_type": "code",
      "execution_count": null,
      "metadata": {
        "ExecuteTime": {
          "end_time": "2020-05-20T13:12:42.294981Z",
          "start_time": "2020-05-20T13:12:42.292607Z"
        },
        "id": "k33ksZoh5gOw"
      },
      "outputs": [],
      "source": [
        "# plt.figure(figsize=(6, 6))\n",
        "# plt.scatter(leak_df.meter_reading_l1p, np.log1p(0.45 * leak_df.pred1 + 0.25 * leak_df.pred2 + 0.3 * leak_df.pred3))\n",
        "# # plt.plot(range(10, 15), range(10, 15), color=\"red\")"
      ]
    },
    {
      "cell_type": "code",
      "execution_count": null,
      "metadata": {
        "ExecuteTime": {
          "end_time": "2020-05-20T13:12:42.298156Z",
          "start_time": "2020-05-20T13:12:42.296040Z"
        },
        "id": "h1k7UXvM5gO2"
      },
      "outputs": [],
      "source": [
        "# # 上一次的比例, 按原始比例,验证分数降低\n",
        "# leak_df['blend_pred'] = 0.15 * leak_df.pred1 + 0.2 * leak_df.pred2 + 0.3 * leak_df.pred3 + 0.00 * leak_df.pred4 + 0.35 * leak_df.pred5\n",
        "# leak_df['blend_pred_l1p'] = np.log1p(leak_df.blend_pred)\n",
        "# leak_score = np.sqrt(mean_squared_error(leak_df.blend_pred_l1p, leak_df.meter_reading_l1p))\n",
        "\n",
        "\n",
        "# sns.distplot(leak_df.blend_pred_l1p)\n",
        "# sns.distplot(leak_df.meter_reading_l1p)\n",
        "\n",
        "# print ('mean score=', leak_score)"
      ]
    },
    {
      "cell_type": "code",
      "execution_count": null,
      "metadata": {
        "ExecuteTime": {
          "end_time": "2020-05-20T13:12:42.301288Z",
          "start_time": "2020-05-20T13:12:42.299192Z"
        },
        "id": "Z2SDR-i25gO2"
      },
      "outputs": [],
      "source": [
        "# # 上一次的比例, 按原始比例,验证分数降低\n",
        "# leak_df['blend_pred'] = (0.15 * leak_df.pred1 + 0.2 * leak_df.pred2 + 0.3 * leak_df.pred3 + 0.00 * leak_df.pred4 + 0.35 * leak_df.pred5) * 0.91\n",
        "# leak_df['blend_pred_l1p'] = np.log1p(leak_df.blend_pred)\n",
        "# leak_score = np.sqrt(mean_squared_error(leak_df.blend_pred_l1p, leak_df.meter_reading_l1p))\n",
        "\n",
        "\n",
        "# sns.distplot(leak_df.blend_pred_l1p)\n",
        "# sns.distplot(leak_df.meter_reading_l1p)\n",
        "\n",
        "# print ('mean score=', leak_score)"
      ]
    },
    {
      "cell_type": "code",
      "execution_count": null,
      "metadata": {
        "id": "993Ng3i95gO3"
      },
      "outputs": [],
      "source": []
    },
    {
      "cell_type": "code",
      "execution_count": null,
      "metadata": {
        "ExecuteTime": {
          "end_time": "2020-05-20T13:12:42.304967Z",
          "start_time": "2020-05-20T13:12:42.302791Z"
        },
        "id": "EI5sxTFi5gO3"
      },
      "outputs": [],
      "source": [
        "# # 上一次的比例, 按原始比例,验证分数降低\n",
        "# leak_df['blend_pred'] = 0.2 * leak_df.pred1 + 0.2 * leak_df.pred2 + 0.2 * leak_df.pred3 + 0.2 * leak_df.pred4 + 0.2 * leak_df.pred5\n",
        "# leak_df['blend_pred_l1p'] = np.log1p(leak_df.blend_pred)\n",
        "# leak_score = np.sqrt(mean_squared_error(leak_df.blend_pred_l1p, leak_df.meter_reading_l1p))\n",
        "\n",
        "\n",
        "# sns.distplot(leak_df.blend_pred_l1p)\n",
        "# sns.distplot(leak_df.meter_reading_l1p)\n",
        "\n",
        "# print ('mean score=', leak_score)"
      ]
    },
    {
      "cell_type": "markdown",
      "metadata": {
        "id": "hrxSS-4A5gO3"
      },
      "source": [
        "# Find Best Weight"
      ]
    },
    {
      "cell_type": "code",
      "execution_count": null,
      "metadata": {
        "ExecuteTime": {
          "end_time": "2020-05-20T13:12:42.309551Z",
          "start_time": "2020-05-20T13:12:42.306508Z"
        },
        "id": "H_1IpNlX5gO3"
      },
      "outputs": [],
      "source": [
        "# N = 10\n",
        "# scores = np.zeros(N,)\n",
        "# for i in range(N):\n",
        "#     p = i * 1./N\n",
        "#     v = p * leak_df['pred1'].values + (1.-p) * leak_df ['pred3'].values\n",
        "#     vl1p = np.log1p(v)\n",
        "#     scores[i] = np.sqrt(mean_squared_error(vl1p, leak_df.meter_reading_l1p))"
      ]
    },
    {
      "cell_type": "code",
      "execution_count": null,
      "metadata": {
        "ExecuteTime": {
          "end_time": "2020-05-20T13:12:42.312950Z",
          "start_time": "2020-05-20T13:12:42.311013Z"
        },
        "id": "isiQCp7y5gO3"
      },
      "outputs": [],
      "source": [
        "# plt.plot(scores)"
      ]
    },
    {
      "cell_type": "code",
      "execution_count": null,
      "metadata": {
        "ExecuteTime": {
          "end_time": "2020-05-20T13:12:42.316166Z",
          "start_time": "2020-05-20T13:12:42.313983Z"
        },
        "id": "IUG4FZ1x5gO3"
      },
      "outputs": [],
      "source": [
        "# best_weight = np.argmin(scores) *  1./N\n",
        "# print (scores.min(), best_weight)"
      ]
    },
    {
      "cell_type": "code",
      "execution_count": null,
      "metadata": {
        "ExecuteTime": {
          "end_time": "2020-05-20T13:12:42.319232Z",
          "start_time": "2020-05-20T13:12:42.317245Z"
        },
        "id": "1srb73vp5gO3"
      },
      "outputs": [],
      "source": [
        "# # and more\n",
        "# scores = np.zeros(N,)\n",
        "# for i in range(N):\n",
        "#     p = i * 1./N\n",
        "#     v =  p * (best_weight * leak_df['pred1'].values + (1.-best_weight) * leak_df ['pred3'].values) + (1.-p) * leak_df ['pred2'].values\n",
        "#     vl1p = np.log1p(v)\n",
        "#     scores[i] = np.sqrt(mean_squared_error(vl1p, leak_df.meter_reading_l1p))"
      ]
    },
    {
      "cell_type": "code",
      "execution_count": null,
      "metadata": {
        "ExecuteTime": {
          "end_time": "2020-05-20T13:12:42.322645Z",
          "start_time": "2020-05-20T13:12:42.320264Z"
        },
        "id": "ZHG2kTQE5gO3"
      },
      "outputs": [],
      "source": [
        "# plt.plot(scores)"
      ]
    },
    {
      "cell_type": "code",
      "execution_count": null,
      "metadata": {
        "ExecuteTime": {
          "end_time": "2020-05-20T13:12:42.325728Z",
          "start_time": "2020-05-20T13:12:42.323687Z"
        },
        "id": "YvkiO6NT5gO3"
      },
      "outputs": [],
      "source": [
        "# best_weight2 = np.argmin(scores) *  1./N\n",
        "# print (scores.min(), best_weight2)\n",
        "# # its seams better than simple mean 0.92079717"
      ]
    },
    {
      "cell_type": "markdown",
      "metadata": {
        "id": "yPrpkgox5gO3"
      },
      "source": [
        "# Heuristic way"
      ]
    },
    {
      "cell_type": "code",
      "execution_count": null,
      "metadata": {
        "ExecuteTime": {
          "end_time": "2020-05-20T13:12:42.328819Z",
          "start_time": "2020-05-20T13:12:42.326764Z"
        },
        "id": "_lxbevjs5gO3"
      },
      "outputs": [],
      "source": [
        "# v = 0.33 * leak_df['pred1'].values + 0.33 * leak_df['pred3'].values + 0.3 * leak_df['pred2'].values\n",
        "# vl1p = np.log1p(v)\n",
        "\n",
        "# print (np.sqrt(mean_squared_error(vl1p, leak_df.meter_reading_l1p)))"
      ]
    },
    {
      "cell_type": "markdown",
      "metadata": {
        "id": "gIUuIFsM5gO3"
      },
      "source": [
        "# Submit"
      ]
    },
    {
      "cell_type": "code",
      "execution_count": null,
      "metadata": {
        "ExecuteTime": {
          "end_time": "2020-05-20T13:12:44.574868Z",
          "start_time": "2020-05-20T13:12:42.329905Z"
        },
        "id": "Hxz271ud5gO3"
      },
      "outputs": [],
      "source": [
        "# sample_submission = pd.read_feather(os.path.join(root, 'sample_submission.feather'))\n",
        "# sample_submission['meter_reading'] = 0.27 * test_df.pred1 + 0.2 * test_df.pred2 + 0.27 * test_df.pred3 + 0.26 * test_df.pred4\n",
        "# sample_submission.loc[sample_submission.meter_reading < 0, 'meter_reading'] = 0\n",
        "\n",
        "\n",
        "# sample_submission = pd.read_feather(os.path.join(root, 'sample_submission.feather'))\n",
        "# sample_submission['meter_reading'] = (0.21 * test_df.pred2 + 0.28 * test_df.pred3 + 0.27 * test_df.pred4 + test_df.pred_o) / 1.76\n",
        "# sample_submission.loc[sample_submission.meter_reading < 0, 'meter_reading'] = 0\n",
        "\n",
        "\n",
        "# sample_submission = pd.read_feather(os.path.join(root, 'sample_submission.feather'))\n",
        "# sample_submission['meter_reading'] = 0.25 * test_df.pred1 + 0.25 * test_df.pred2 + 0.25 * test_df.pred3 + 0.25 * test_df.pred4\n",
        "# sample_submission.loc[sample_submission.meter_reading < 0, 'meter_reading'] = 0\n",
        "\n",
        "\n",
        "# sample_submission = pd.read_feather(os.path.join(root, 'sample_submission.feather'))\n",
        "# sample_submission['meter_reading'] = 0.2 * test_df.pred1 + 0.2 * test_df.pred2 + 0.2 * test_df.pred3 + 0.2 * test_df.pred4 + 0.2 * test_df.pred5\n",
        "# sample_submission.loc[sample_submission.meter_reading < 0, 'meter_reading'] = 0\n",
        "\n",
        "\n",
        "# sample_submission = pd.read_feather(os.path.join(root, 'sample_submission.feather'))\n",
        "# sample_submission['meter_reading'] = 0.35 * test_df.pred1 + 0.15 * test_df.pred2 + 0.45 * test_df.pred3 + 0.05 * test_df.pred4\n",
        "# sample_submission.loc[sample_submission.meter_reading < 0, 'meter_reading'] = 0\n",
        "\n",
        "\n",
        "# sample_submission = pd.read_feather(os.path.join(root, 'sample_submission.feather'))\n",
        "# sample_submission['meter_reading'] = 0.4 * test_df.pred1 + 0.15 * test_df.pred2 + 0.4 * test_df.pred3 + 0.05 * test_df.pred4\n",
        "# sample_submission.loc[sample_submission.meter_reading < 0, 'meter_reading'] = 0\n",
        "\n",
        "\n",
        "# sample_submission = pd.read_feather(os.path.join(root, 'sample_submission.feather'))\n",
        "# sample_submission['meter_reading'] = 0.45 * test_df.pred1 + 0.25 * test_df.pred2 + 0.3 * test_df.pred3\n",
        "# sample_submission.loc[sample_submission.meter_reading < 0, 'meter_reading'] = 0\n",
        "\n",
        "\n",
        "\n",
        "sample_submission = pd.read_feather(os.path.join(root, 'sample_submission.feather'))\n",
        "sample_submission['meter_reading'] = (0.45 * test_df.pred1 + 0.25 * test_df.pred2 + 0.3 * test_df.pred3) * 0.9\n",
        "sample_submission.loc[sample_submission.meter_reading < 0, 'meter_reading'] = 0\n",
        "\n",
        "\n",
        "# sample_submission = pd.read_feather(os.path.join(root, 'sample_submission.feather'))\n",
        "# sample_submission['meter_reading'] = (0.15 * test_df.pred1 + 0.2 * test_df.pred2 + 0.3 * test_df.pred3 + 0.35 * test_df.pred5) * 0.91\n",
        "# sample_submission.loc[sample_submission.meter_reading < 0, 'meter_reading'] = 0\n",
        "\n",
        "\n",
        "# sample_submission = pd.read_feather(os.path.join(root, 'sample_submission.feather'))\n",
        "# sample_submission['meter_reading'] = (0.3 * test_df.pred1 + 0.05 * test_df.pred2 + 0.65 * test_df.pred3) * 0.9\n",
        "# sample_submission.loc[sample_submission.meter_reading < 0, 'meter_reading'] = 0"
      ]
    },
    {
      "cell_type": "code",
      "execution_count": null,
      "metadata": {
        "ExecuteTime": {
          "end_time": "2020-05-20T13:13:06.183063Z",
          "start_time": "2020-05-20T13:12:44.576155Z"
        },
        "id": "iM9LXQEL5gO3",
        "outputId": "9d936427-ed84-4b9a-c317-60612b0e9abc"
      },
      "outputs": [
        {
          "data": {
            "text/plain": [
              "<matplotlib.axes._subplots.AxesSubplot at 0x7fb139c25080>"
            ]
          },
          "execution_count": 52,
          "metadata": {},
          "output_type": "execute_result"
        },
        {
          "data": {
            "image/png": "[encoded data removed]",
            "text/plain": [
              "<Figure size 432x288 with 1 Axes>"
            ]
          },
          "metadata": {
            "needs_background": "light"
          },
          "output_type": "display_data"
        }
      ],
      "source": [
        "sns.distplot(np.log1p(sample_submission.meter_reading))"
      ]
    },
    {
      "cell_type": "code",
      "execution_count": null,
      "metadata": {
        "ExecuteTime": {
          "end_time": "2020-05-20T13:13:08.984537Z",
          "start_time": "2020-05-20T13:13:06.184345Z"
        },
        "id": "M5EJ4R3S5gO3"
      },
      "outputs": [],
      "source": [
        "leak_df = leak_df[['meter_reading', 'row_id']].set_index('row_id').dropna()\n",
        "sample_submission.loc[leak_df.index, 'meter_reading'] = leak_df['meter_reading']"
      ]
    },
    {
      "cell_type": "code",
      "execution_count": null,
      "metadata": {
        "ExecuteTime": {
          "end_time": "2020-05-20T13:13:29.851520Z",
          "start_time": "2020-05-20T13:13:08.985887Z"
        },
        "id": "03B2Rfmc5gO3",
        "outputId": "8a1c8928-0d15-43ff-ebcf-2ed992d3b138"
      },
      "outputs": [
        {
          "data": {
            "text/plain": [
              "<matplotlib.axes._subplots.AxesSubplot at 0x7fb134c308d0>"
            ]
          },
          "execution_count": 54,
          "metadata": {},
          "output_type": "execute_result"
        },
        {
          "data": {
            "image/png": "[encoded data removed]",
            "text/plain": [
              "<Figure size 432x288 with 1 Axes>"
            ]
          },
          "metadata": {
            "needs_background": "light"
          },
          "output_type": "display_data"
        }
      ],
      "source": [
        "sns.distplot(np.log1p(sample_submission.meter_reading))"
      ]
    },
    {
      "cell_type": "code",
      "execution_count": null,
      "metadata": {
        "ExecuteTime": {
          "end_time": "2020-05-20T13:13:29.862390Z",
          "start_time": "2020-05-20T13:13:29.852779Z"
        },
        "id": "ESgI1RQt5gO3",
        "outputId": "3bbf3923-b171-4df6-e132-6c39d74dd312"
      },
      "outputs": [
        {
          "data": {
            "text/html": [
              "<div>\n",
              "<style scoped>\n",
              "    .dataframe tbody tr th:only-of-type {\n",
              "        vertical-align: middle;\n",
              "    }\n",
              "\n",
              "    .dataframe tbody tr th {\n",
              "        vertical-align: top;\n",
              "    }\n",
              "\n",
              "    .dataframe thead th {\n",
              "        text-align: right;\n",
              "    }\n",
              "</style>\n",
              "<table border=\"1\" class=\"dataframe\">\n",
              "  <thead>\n",
              "    <tr style=\"text-align: right;\">\n",
              "      <th></th>\n",
              "      <th>row_id</th>\n",
              "      <th>meter_reading</th>\n",
              "    </tr>\n",
              "  </thead>\n",
              "  <tbody>\n",
              "    <tr>\n",
              "      <th>0</th>\n",
              "      <td>0</td>\n",
              "      <td>173.370293</td>\n",
              "    </tr>\n",
              "    <tr>\n",
              "      <th>1</th>\n",
              "      <td>1</td>\n",
              "      <td>53.512720</td>\n",
              "    </tr>\n",
              "    <tr>\n",
              "      <th>2</th>\n",
              "      <td>2</td>\n",
              "      <td>6.143042</td>\n",
              "    </tr>\n",
              "    <tr>\n",
              "      <th>3</th>\n",
              "      <td>3</td>\n",
              "      <td>101.701470</td>\n",
              "    </tr>\n",
              "    <tr>\n",
              "      <th>4</th>\n",
              "      <td>4</td>\n",
              "      <td>1141.240666</td>\n",
              "    </tr>\n",
              "    <tr>\n",
              "      <th>5</th>\n",
              "      <td>5</td>\n",
              "      <td>13.651204</td>\n",
              "    </tr>\n",
              "    <tr>\n",
              "      <th>6</th>\n",
              "      <td>6</td>\n",
              "      <td>260.874513</td>\n",
              "    </tr>\n",
              "    <tr>\n",
              "      <th>7</th>\n",
              "      <td>7</td>\n",
              "      <td>502.705590</td>\n",
              "    </tr>\n",
              "    <tr>\n",
              "      <th>8</th>\n",
              "      <td>8</td>\n",
              "      <td>717.574038</td>\n",
              "    </tr>\n",
              "    <tr>\n",
              "      <th>9</th>\n",
              "      <td>9</td>\n",
              "      <td>513.285268</td>\n",
              "    </tr>\n",
              "    <tr>\n",
              "      <th>10</th>\n",
              "      <td>10</td>\n",
              "      <td>61.839954</td>\n",
              "    </tr>\n",
              "    <tr>\n",
              "      <th>11</th>\n",
              "      <td>11</td>\n",
              "      <td>0.000000</td>\n",
              "    </tr>\n",
              "    <tr>\n",
              "      <th>12</th>\n",
              "      <td>12</td>\n",
              "      <td>1806.736848</td>\n",
              "    </tr>\n",
              "    <tr>\n",
              "      <th>13</th>\n",
              "      <td>13</td>\n",
              "      <td>472.331669</td>\n",
              "    </tr>\n",
              "    <tr>\n",
              "      <th>14</th>\n",
              "      <td>14</td>\n",
              "      <td>298.620091</td>\n",
              "    </tr>\n",
              "    <tr>\n",
              "      <th>15</th>\n",
              "      <td>15</td>\n",
              "      <td>308.858494</td>\n",
              "    </tr>\n",
              "    <tr>\n",
              "      <th>16</th>\n",
              "      <td>16</td>\n",
              "      <td>253.261425</td>\n",
              "    </tr>\n",
              "    <tr>\n",
              "      <th>17</th>\n",
              "      <td>17</td>\n",
              "      <td>263.468243</td>\n",
              "    </tr>\n",
              "    <tr>\n",
              "      <th>18</th>\n",
              "      <td>18</td>\n",
              "      <td>464.312613</td>\n",
              "    </tr>\n",
              "    <tr>\n",
              "      <th>19</th>\n",
              "      <td>19</td>\n",
              "      <td>176.441813</td>\n",
              "    </tr>\n",
              "    <tr>\n",
              "      <th>20</th>\n",
              "      <td>20</td>\n",
              "      <td>253.261425</td>\n",
              "    </tr>\n",
              "    <tr>\n",
              "      <th>21</th>\n",
              "      <td>21</td>\n",
              "      <td>1299.048585</td>\n",
              "    </tr>\n",
              "    <tr>\n",
              "      <th>22</th>\n",
              "      <td>22</td>\n",
              "      <td>165.589108</td>\n",
              "    </tr>\n",
              "    <tr>\n",
              "      <th>23</th>\n",
              "      <td>23</td>\n",
              "      <td>2070.614676</td>\n",
              "    </tr>\n",
              "    <tr>\n",
              "      <th>24</th>\n",
              "      <td>24</td>\n",
              "      <td>174.735409</td>\n",
              "    </tr>\n",
              "    <tr>\n",
              "      <th>25</th>\n",
              "      <td>25</td>\n",
              "      <td>321.014888</td>\n",
              "    </tr>\n",
              "    <tr>\n",
              "      <th>26</th>\n",
              "      <td>26</td>\n",
              "      <td>36.858251</td>\n",
              "    </tr>\n",
              "    <tr>\n",
              "      <th>27</th>\n",
              "      <td>27</td>\n",
              "      <td>20.958011</td>\n",
              "    </tr>\n",
              "    <tr>\n",
              "      <th>28</th>\n",
              "      <td>28</td>\n",
              "      <td>839.890343</td>\n",
              "    </tr>\n",
              "    <tr>\n",
              "      <th>29</th>\n",
              "      <td>29</td>\n",
              "      <td>391.789550</td>\n",
              "    </tr>\n",
              "    <tr>\n",
              "      <th>...</th>\n",
              "      <td>...</td>\n",
              "      <td>...</td>\n",
              "    </tr>\n",
              "    <tr>\n",
              "      <th>41697570</th>\n",
              "      <td>41697570</td>\n",
              "      <td>1455.485792</td>\n",
              "    </tr>\n",
              "    <tr>\n",
              "      <th>41697571</th>\n",
              "      <td>41697571</td>\n",
              "      <td>40.831291</td>\n",
              "    </tr>\n",
              "    <tr>\n",
              "      <th>41697572</th>\n",
              "      <td>41697572</td>\n",
              "      <td>28.912505</td>\n",
              "    </tr>\n",
              "    <tr>\n",
              "      <th>41697573</th>\n",
              "      <td>41697573</td>\n",
              "      <td>354.302144</td>\n",
              "    </tr>\n",
              "    <tr>\n",
              "      <th>41697574</th>\n",
              "      <td>41697574</td>\n",
              "      <td>173.835264</td>\n",
              "    </tr>\n",
              "    <tr>\n",
              "      <th>41697575</th>\n",
              "      <td>41697575</td>\n",
              "      <td>127.354557</td>\n",
              "    </tr>\n",
              "    <tr>\n",
              "      <th>41697576</th>\n",
              "      <td>41697576</td>\n",
              "      <td>182.526244</td>\n",
              "    </tr>\n",
              "    <tr>\n",
              "      <th>41697577</th>\n",
              "      <td>41697577</td>\n",
              "      <td>439.628827</td>\n",
              "    </tr>\n",
              "    <tr>\n",
              "      <th>41697578</th>\n",
              "      <td>41697578</td>\n",
              "      <td>35.669586</td>\n",
              "    </tr>\n",
              "    <tr>\n",
              "      <th>41697579</th>\n",
              "      <td>41697579</td>\n",
              "      <td>585.618123</td>\n",
              "    </tr>\n",
              "    <tr>\n",
              "      <th>41697580</th>\n",
              "      <td>41697580</td>\n",
              "      <td>70.566958</td>\n",
              "    </tr>\n",
              "    <tr>\n",
              "      <th>41697581</th>\n",
              "      <td>41697581</td>\n",
              "      <td>218.626459</td>\n",
              "    </tr>\n",
              "    <tr>\n",
              "      <th>41697582</th>\n",
              "      <td>41697582</td>\n",
              "      <td>5.658812</td>\n",
              "    </tr>\n",
              "    <tr>\n",
              "      <th>41697583</th>\n",
              "      <td>41697583</td>\n",
              "      <td>13.121321</td>\n",
              "    </tr>\n",
              "    <tr>\n",
              "      <th>41697584</th>\n",
              "      <td>41697584</td>\n",
              "      <td>920.536597</td>\n",
              "    </tr>\n",
              "    <tr>\n",
              "      <th>41697585</th>\n",
              "      <td>41697585</td>\n",
              "      <td>354.875646</td>\n",
              "    </tr>\n",
              "    <tr>\n",
              "      <th>41697586</th>\n",
              "      <td>41697586</td>\n",
              "      <td>509.668459</td>\n",
              "    </tr>\n",
              "    <tr>\n",
              "      <th>41697587</th>\n",
              "      <td>41697587</td>\n",
              "      <td>153.402392</td>\n",
              "    </tr>\n",
              "    <tr>\n",
              "      <th>41697588</th>\n",
              "      <td>41697588</td>\n",
              "      <td>387.845816</td>\n",
              "    </tr>\n",
              "    <tr>\n",
              "      <th>41697589</th>\n",
              "      <td>41697589</td>\n",
              "      <td>173.011824</td>\n",
              "    </tr>\n",
              "    <tr>\n",
              "      <th>41697590</th>\n",
              "      <td>41697590</td>\n",
              "      <td>232.149407</td>\n",
              "    </tr>\n",
              "    <tr>\n",
              "      <th>41697591</th>\n",
              "      <td>41697591</td>\n",
              "      <td>262.515444</td>\n",
              "    </tr>\n",
              "    <tr>\n",
              "      <th>41697592</th>\n",
              "      <td>41697592</td>\n",
              "      <td>79.879881</td>\n",
              "    </tr>\n",
              "    <tr>\n",
              "      <th>41697593</th>\n",
              "      <td>41697593</td>\n",
              "      <td>4.559726</td>\n",
              "    </tr>\n",
              "    <tr>\n",
              "      <th>41697594</th>\n",
              "      <td>41697594</td>\n",
              "      <td>79.117717</td>\n",
              "    </tr>\n",
              "    <tr>\n",
              "      <th>41697595</th>\n",
              "      <td>41697595</td>\n",
              "      <td>6.097178</td>\n",
              "    </tr>\n",
              "    <tr>\n",
              "      <th>41697596</th>\n",
              "      <td>41697596</td>\n",
              "      <td>4.050067</td>\n",
              "    </tr>\n",
              "    <tr>\n",
              "      <th>41697597</th>\n",
              "      <td>41697597</td>\n",
              "      <td>3.208099</td>\n",
              "    </tr>\n",
              "    <tr>\n",
              "      <th>41697598</th>\n",
              "      <td>41697598</td>\n",
              "      <td>161.343241</td>\n",
              "    </tr>\n",
              "    <tr>\n",
              "      <th>41697599</th>\n",
              "      <td>41697599</td>\n",
              "      <td>3.560938</td>\n",
              "    </tr>\n",
              "  </tbody>\n",
              "</table>\n",
              "<p>41697600 rows × 2 columns</p>\n",
              "</div>"
            ],
            "text/plain": [
              "            row_id  meter_reading\n",
              "0                0     173.370293\n",
              "1                1      53.512720\n",
              "2                2       6.143042\n",
              "3                3     101.701470\n",
              "4                4    1141.240666\n",
              "...            ...            ...\n",
              "41697595  41697595       6.097178\n",
              "41697596  41697596       4.050067\n",
              "41697597  41697597       3.208099\n",
              "41697598  41697598     161.343241\n",
              "41697599  41697599       3.560938\n",
              "\n",
              "[41697600 rows x 2 columns]"
            ]
          },
          "execution_count": 55,
          "metadata": {},
          "output_type": "execute_result"
        }
      ],
      "source": [
        "sample_submission"
      ]
    },
    {
      "cell_type": "code",
      "execution_count": null,
      "metadata": {
        "ExecuteTime": {
          "end_time": "2020-05-20T13:13:29.868850Z",
          "start_time": "2020-05-20T13:13:29.863517Z"
        },
        "id": "nZpaMFUY5gO3",
        "outputId": "74d5d83f-59ae-414e-a6bb-75d596406142"
      },
      "outputs": [
        {
          "data": {
            "text/html": [
              "<div>\n",
              "<style scoped>\n",
              "    .dataframe tbody tr th:only-of-type {\n",
              "        vertical-align: middle;\n",
              "    }\n",
              "\n",
              "    .dataframe tbody tr th {\n",
              "        vertical-align: top;\n",
              "    }\n",
              "\n",
              "    .dataframe thead th {\n",
              "        text-align: right;\n",
              "    }\n",
              "</style>\n",
              "<table border=\"1\" class=\"dataframe\">\n",
              "  <thead>\n",
              "    <tr style=\"text-align: right;\">\n",
              "      <th></th>\n",
              "      <th>row_id</th>\n",
              "      <th>meter_reading</th>\n",
              "    </tr>\n",
              "  </thead>\n",
              "  <tbody>\n",
              "    <tr>\n",
              "      <th>0</th>\n",
              "      <td>0</td>\n",
              "      <td>173.370293</td>\n",
              "    </tr>\n",
              "    <tr>\n",
              "      <th>1</th>\n",
              "      <td>1</td>\n",
              "      <td>53.512720</td>\n",
              "    </tr>\n",
              "    <tr>\n",
              "      <th>2</th>\n",
              "      <td>2</td>\n",
              "      <td>6.143042</td>\n",
              "    </tr>\n",
              "    <tr>\n",
              "      <th>3</th>\n",
              "      <td>3</td>\n",
              "      <td>101.701470</td>\n",
              "    </tr>\n",
              "    <tr>\n",
              "      <th>4</th>\n",
              "      <td>4</td>\n",
              "      <td>1141.240666</td>\n",
              "    </tr>\n",
              "  </tbody>\n",
              "</table>\n",
              "</div>"
            ],
            "text/plain": [
              "   row_id  meter_reading\n",
              "0       0     173.370293\n",
              "1       1      53.512720\n",
              "2       2       6.143042\n",
              "3       3     101.701470\n",
              "4       4    1141.240666"
            ]
          },
          "execution_count": 56,
          "metadata": {},
          "output_type": "execute_result"
        }
      ],
      "source": [
        "sample_submission.head()"
      ]
    },
    {
      "cell_type": "code",
      "execution_count": null,
      "metadata": {
        "ExecuteTime": {
          "end_time": "2020-05-20T13:15:52.608589Z",
          "start_time": "2020-05-20T13:13:54.220338Z"
        },
        "id": "qnbGp4mt5gO3"
      },
      "outputs": [],
      "source": [
        "sample_submission.to_csv('../output/as-leakage-replace-new/submission.csv', index=False, float_format='%.4f')"
      ]
    }
  ],
  "metadata": {
    "kernelspec": {
      "display_name": "Python 3",
      "language": "python",
      "name": "python3"
    },
    "language_info": {
      "codemirror_mode": {
        "name": "ipython",
        "version": 3
      },
      "file_extension": ".py",
      "mimetype": "text/x-python",
      "name": "python",
      "nbconvert_exporter": "python",
      "pygments_lexer": "ipython3",
      "version": "3.6.10"
    },
    "colab": {
      "provenance": [],
      "include_colab_link": true
    }
  },
  "nbformat": 4,
  "nbformat_minor": 0
}